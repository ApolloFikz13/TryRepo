{
  "nbformat": 4,
  "nbformat_minor": 0,
  "metadata": {
    "colab": {
      "name": "no 1",
      "provenance": [],
      "collapsed_sections": []
    },
    "kernelspec": {
      "name": "python3",
      "display_name": "Python 3"
    },
    "language_info": {
      "name": "python"
    }
  },
  "cells": [
    {
      "cell_type": "code",
      "metadata": {
        "colab": {
          "base_uri": "https://localhost:8080/"
        },
        "id": "um7GAOikPM8l",
        "outputId": "caf92240-1fe2-4ef4-81de-9fc00ea2d1cc"
      },
      "source": [
        "nogizaka = 48\n",
        "akb = 46\n",
        "\n",
        "nogizaka,akb = akb,nogizaka\n",
        "print(\" nogizaka : {}\".format(nogizaka))\n",
        "print(\" akb : {}\".format(akb))\n"
      ],
      "execution_count": 5,
      "outputs": [
        {
          "output_type": "stream",
          "name": "stdout",
          "text": [
            " nogizaka : 46\n",
            " akb : 48\n"
          ]
        }
      ]
    }
  ]
}